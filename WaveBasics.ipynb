{
 "cells": [
  {
   "cell_type": "markdown",
   "metadata": {},
   "source": [
    "<a rel=\"license\" href=\"http://creativecommons.org/licenses/by/4.0/\"><img alt=\"Creative Commons License\" style=\"border-width:0\" src=\"https://i.creativecommons.org/l/by/4.0/88x31.png\" /></a><br />This work is licensed under a <a rel=\"license\" href=\"http://creativecommons.org/licenses/by/4.0/\">Creative Commons Attribution 4.0 International License</a>."
   ]
  },
  {
   "cell_type": "markdown",
   "metadata": {},
   "source": [
    "# Mathematical Models of Waves"
   ]
  },
  {
   "cell_type": "markdown",
   "metadata": {},
   "source": [
    "NOTE:  It is recommended that you execute all the cells in the notebook before you begin working with it.  To do this, select *cell => Run All* above. \n",
    "\n",
    "Study the notebook and work through the interactive examples.  There are **QUESTIONS** to ponder and optional   **INTERACTIVE EXERCISES** to work through that may require small code modifications.  If you choose to do these and a code change is required, follow these steps:\n",
    "\n",
    "* Make the code modifications\n",
    "* Highlight the cell (may already by highlighted)\n",
    "* Select Run in the menu above to execute the cell with the modified code (or Shift-Enter)\n",
    "\n",
    "In this notebook we will be working with a most basic mathematical representation of waves.  This representation can be used to describe a variety of waves including sound waves and vibrating strings.  \n",
    "\n",
    "There are many examples of waves in our world including acoustic and shock waves (sound), light waves, radio waves, mechanical waves (e.g. a vibrating guitar string).  All waves have two important characteristics.  The first is they require an initial perturbation to set them in motion.  Examples include:\n",
    "\n",
    "* Wind (capillary waves, wind-waves)\n",
    "* Push by a Parent (child in a swing)\n",
    "* Pluck of a string by a pick (guitar string)\n",
    "* [30,000 Watt spark-gap transmitter](https://www.nps.gov/caco/learn/historyculture/marconi.htm) (Marconi's Radio-Wave trasnmitter in Wellfleet)  \n",
    "\n",
    "The second characteristic is that there must be a restoring force that tends the system towards some equilibrium. Examples include: \n",
    "\n",
    "* Surface tension (capillary waves)\n",
    "* Gravity (ocean wind-waves, tides)\n",
    "* Electro-Magnetic field (radio waves)\n",
    "* String tension (guitar)  \n",
    "\n",
    "High speed cameras have allowed scientists to slow down and study waves that are too fast for our eyes to process in realtime.  Some example videos showing musical instruments in motion can be found [here](https://www.youtube.com/watch?v=QXjdGBZQvLc) and [here](https://www.youtube.com/watch?v=r41bs0endYo).  These videos are optional and carry the warning that you may see an actual musician.  \n",
    "\n"
   ]
  },
  {
   "cell_type": "markdown",
   "metadata": {},
   "source": [
    "### Surface Gravity Waves\n",
    "\n",
    "In this notebook we will focus on ocean surface gravity waves which range in size from the tiny capillary waves with wavelengths of a few cm caused by a slight perturbation of the water surface from a puff of wind to global tides which have wavelengths of 1000s of km.  We refer to them as *gravity waves* because the restoring force is gravity.  The initial perturbation depends on the wavetype.  The disturbances can come from wind, astronomical forcing (for the tides), or movement of the seafloor (tsunamis).  \n",
    "\n",
    "We will model waves using the harmonic function sine ($f(x) = \\sin(x)$), although cosine ($(f(x) = \\cos(x)$) would work just as well. These functions are both periodic with a period of $2\\pi$ such that as the argument $x$ proceeds through $2\\pi$ the function $f(x)$ goes through one complete cycle.  In the code block below these functions are plotted over the interval $0 < x < 4\\pi$.  You will see both $\\sin$ and $\\cos$ go through exactly two oscillations.  You should also note that the range of both functions is $-1 \\leq f(x) \\leq 1$ and also that the functions are displaced relative to each other.  The $\\sin$ function lags that of $\\cos$ by $\\frac{1}{4}$ of a period which we can also express as $90^{\\circ}$ or $\\frac{\\pi}{2}$ radians.  It would also be correct to say that $\\cos$ leads $\\sin$ by $\\frac{3}{4}$ of a period.   \n",
    "\n",
    "**QUESTION**: Which function ($\\cos$ or $\\sin$) is symmetric - that is for which function is $f(x) = f(-x)$?  Note:  a symmetric function is mirrored around $x=0$.  \n",
    "\n",
    "**INTERACTIVE EXERCISE**:  Try doubling the range of $x$ to $0 \\leq x \\leq 8\\pi$ and rerunning the code block.  To re-run the block, highlight it and click *Run* above.  This will update the graph. "
   ]
  },
  {
   "cell_type": "code",
   "execution_count": 2,
   "metadata": {
    "scrolled": false
   },
   "outputs": [
    {
     "data": {
      "text/plain": [
       "<Figure size 1500x500 with 1 Axes>"
      ]
     },
     "metadata": {},
     "output_type": "display_data"
    }
   ],
   "source": [
    "import matplotlib.pyplot as plt\n",
    "import numpy as np\n",
    "\n",
    "\n",
    "# plot sin and cos\n",
    "plt.rcParams[\"figure.figsize\"] = (15,5)\n",
    "\n",
    "x  = np.linspace(0, 4*np.pi, num=500)\n",
    "y1 = np.sin(x)\n",
    "y2 = np.cos(x)\n",
    "plt.plot(x,y1)\n",
    "plt.plot(x,y2)\n",
    "plt.title(\"simple harmonic functions\")\n",
    "plt.xlabel(\"x\",fontsize=16)\n",
    "plt.ylabel(\"f(x)\",fontsize=16)\n",
    "plt.legend(['sin','cos'],fontsize=16)\n",
    "plt.show()\n",
    "\n"
   ]
  },
  {
   "cell_type": "markdown",
   "metadata": {},
   "source": [
    "### Amplitude\n",
    "\n",
    "The harmonic function $\\sin(x)$ has the appearance of a wave but is very constraining as we would only be able to use it to model waves that range from -1 to 1 with a period of exactly $2\\pi$.  We need to modify the function further so that it could be used to describe the broad spectrum of ocean waves.  We will do that by adding an additional variable, the *amplitude* of a wave, often written as $a$.  The amplitude is the maximum deviation of the wave from the mean value of the wave (here 0).  The amplitude of $\\sin(x)$ is exactly 1 (or *unity*).  Scientists studying waves from a wide variety of displines refer to this metric of wave *size* using the amplitude and we will see why it is a natural measure in a minute.  However, there is an exception to this and that exception is oceanography.  Oceanographers may occasionally use *amplitude* but when talking about wind-waves, it is more common to use the wave *height*.  The *height* of the wave, often designated $H$ or $h$ is the distance from the trough to the crest.  For these simple, symmetric waves, this is exactly twice the amplitude.  For a wave of height $\\eta(x)=\\cos(x)$, the wave height $H=2$.  \n",
    "\n",
    "To be able to model waves of any given amplitude (or height), we can modify the harmonic function as follows:\n",
    "\n",
    "$\\eta(x) = a\\sin(x) = \\frac{H}{2}\\sin(x)$.  \n",
    "\n",
    "In the next code block, two functions are defined.  One is the simple harmonic $\\zeta(x) = \\sin(x)$ and the other is $\\eta(x) = A\\sin(x)$.  An interactive slider allows you to adjust the amplitude to see what effect it has on the function.  \n",
    "\n",
    "\n",
    "**INTERACTIVE EXERCISE**:: What would happen to the function if a negative value were used for the amplitude?  If you are interested in testing your answer, change the first value of the triplet A=(0,4,0.1) to A=(-1,4,0.1) in the interact function in the code block below, then hit Run above.  This will change the starting value of the slider to -1."
   ]
  },
  {
   "cell_type": "code",
   "execution_count": 3,
   "metadata": {},
   "outputs": [
    {
     "data": {
      "application/vnd.jupyter.widget-view+json": {
       "model_id": "c480615c382a4fd58bc697a0a47c8a70",
       "version_major": 2,
       "version_minor": 0
      },
      "text/plain": [
       "interactive(children=(FloatSlider(value=2.0, description='A', max=4.0), Output()), _dom_classes=('widget-inter…"
      ]
     },
     "metadata": {},
     "output_type": "display_data"
    }
   ],
   "source": [
    "from __future__ import print_function\n",
    "from ipywidgets import interact, interactive, fixed, interact_manual\n",
    "import ipywidgets as widgets\n",
    "\n",
    "@interact(A=(0,4,.1))\n",
    "def ampdemo(A):\n",
    "    plt.rcParams[\"figure.figsize\"] = (15,5)\n",
    "    t  = np.linspace(0, 4*np.pi, num=500)\n",
    "    y  = np.sin(t)\n",
    "    y2 = A*np.sin(t)\n",
    "    plt.plot(t,y,'b')\n",
    "    plt.plot(t,y2,'r')\n",
    "    plt.xlabel(\"x\",fontsize=16)\n",
    "    plt.ylabel(\"$\\eta(x)$\",fontsize=16)\n",
    "    plt.legend(['$\\sin(x)$','$A\\sin(x)$'])\n",
    "    plt.axis([x.min(),x.max(),-5,5])\n",
    "    plt.show()\n"
   ]
  },
  {
   "cell_type": "markdown",
   "metadata": {},
   "source": [
    "### A spatial perspective:  Wavelength\n",
    "\n",
    "The ocean surface is not usually flat and calm and is normally subject to variation.  We can think of the variations with two perspectives:  varying in time and varying in space.  If we measure the height of the ocean surface at a point, say with yardstick mounted on pier and record the height on the yardstick at regular time intervals, we are looking at the variations in time at a fixed location.   Conversely we can take a photograph of the ocean wavefield.  In this case we would be looking at variations in space at fixed time.  For general spatial variations we would need to consider two spatial variables.  Typically these spatial variables are directions that are orthogonal or at right angles to each other (although this is not necessary).  These variables might be (*longitude*,*latitude*) or a local coordinate system in meters ($x$,$y$) which could be projections from the earth coordinates and aligned with them such that $x$ faces east and $y$ faces north or perhaps some other coordinate system of convenience.  For example, scientists working on nearshore or shelf processes often use a rotated (*alongshore*,*cross-shore*) coordinate system.  For the purposes of the discussion below we will consider only 1-spatial coordinate, assumed to be aligned with the direction of wave travel we will call that coordinate $x$.  The natural spatial measure of a wave is the distance from one *crest* (the highest point of the wave) to the next.  This is known as the *wavelength*.  You may see $\\lambda$ or $L$ used to define the wavelength and in some cases, usually older texts, you may see $\\Lambda$.  The wavelength has a spatial dimension and the unit used in oceanography is usually meters ($m$).   To use our harmonic functions to represent the spatial viewpoint of the wave we need to figure out how to change the model so that the function goes through one cycle every increment ($\\delta x = \\lambda$) rather than in increments of ($\\delta x = 2 \\pi$).  Thus we need to modify the argument of the function as follows:\n",
    "\n",
    "$\\eta(x) = \\sin(\\frac{2\\pi x}{\\lambda})$\n",
    "\n",
    "Thus, as $x$ proceeds through one $\\lambda$, the argument (the *stuff* inside the parentheses that the function operates on) proceeds through $2\\pi$ and thus the function proceeds through one cycle. You can explore this in the code cell below where the slider allows you to select the wavelength of the wave. The value you set for wavelength will be the crest to crest distance. \n",
    "\n",
    "Often you will find an alternate representation of the spatial characteristics, one which uses the variable $k$. It will look like this:\n",
    "\n",
    "$\\eta(x) = \\sin(kx)$\n",
    "\n",
    "You can see right away that this is much cleaner.  If the two functions above are equivalent, we can see that $k=\\frac{2\\pi}{\\lambda}$.  This variable, $k$, is called the *wavenumber*.  It is less intuitive but easy to work with mathematically.  Fortunately, it is easy to convert between them. \n"
   ]
  },
  {
   "cell_type": "code",
   "execution_count": 8,
   "metadata": {},
   "outputs": [
    {
     "data": {
      "application/vnd.jupyter.widget-view+json": {
       "model_id": "e2db7558946d4c51850a6a4448796676",
       "version_major": 2,
       "version_minor": 0
      },
      "text/plain": [
       "interactive(children=(FloatSlider(value=5.25, description='wavelength', max=10.0, min=0.5, step=0.25), Output(…"
      ]
     },
     "metadata": {},
     "output_type": "display_data"
    }
   ],
   "source": [
    "@interact(wavelength=(0.5,10,.25))\n",
    "def lambdademo(wavelength):\n",
    "    plt.rcParams[\"figure.figsize\"] = (15,5)\n",
    "    t = np.linspace(0, 8*np.pi, num=1000)\n",
    "    y = np.sin(t*2*np.pi/wavelength)\n",
    "    plt.plot(t,y,'b')\n",
    "    plt.xlabel(\"x\",fontsize=16)\n",
    "    plt.ylabel(\"$\\eta(x)$\",fontsize=16)\n",
    "    plt.legend(['sin(2$\\pi$x/$\\lambda$)'],fontsize=16)\n",
    "    ss = 'k = '+\"{:.2f}\".format(1/wavelength)+' rad/m'\n",
    "    plt.text(0,1.3, ss, fontsize=12)\n",
    "    plt.ylim((-1.5,1.5))\n",
    "    plt.show()"
   ]
  },
  {
   "cell_type": "markdown",
   "metadata": {},
   "source": [
    "### A temporal perspective:  Period\n",
    "\n",
    "For the temporal perspective, the approach is similar to that of the spatial.  We return to the idea that we are measuring the height of the water surface at a fixed location, such as our example of a yardstick mounted on a pier.  In this case we are considering the temporal characteristics and the key variable for this is the *period*, defined as the time interval between successive wave crests.   The period is usually denoted $T$. $T$ has dimensions of time.  When talking about wind-generated waves, $T$ is usually expressed in seconds ($s$).  When talking about tides, it is sometimes expressed in $s$ and sometimes in hours.   Analogously to our spatial approach above we can modify the basic harmonic function so that it passes through one cycle when time $t$ goes through one period as follows:\n",
    "\n",
    "$\\eta(t) = \\sin\\left(\\frac{2 \\pi t}{T}\\right)$\n",
    "\n",
    "There are other ways to express the time-varying characteristics.  The most intuitive alternate approach is the frequency $f$ which is simply the inverse of the period $f = 1/T$ and thus has units of 1 over time.  For wind-waves the units used are typically $\\frac{1}{s}$ which is known as a Hertz ($Hz$).   A wave with a period of 10 $s$ has a frequency of $f=0.1$ Hz.  We can also think of $f$ as the number of waves passing each second.  The mathematical models of waves do not typically use $f$ but modifying our expression above it would be:\n",
    "\n",
    "$\\eta(t) = \\sin\\left(2 \\pi f t\\right)$\n",
    "\n",
    "\n",
    "A third variable that is used to describe the temporal characteristics is the *angular frequency* $\\omega$.  As $2\\pi$ radians is a full cycle, this is a measure of the a rate of cycling in radians per second $\\omega = \\frac{2\\pi}{T}$.  The variable has dimensions of radians per time.  It is very common to see $\\omega$ in the mathematical models of waves and in this case, it would be:\n",
    "\n",
    "$\\eta(t) = \\sin\\left(\\omega t\\right)$\n",
    "\n",
    "It is easy to see that it is the cleanest approach of the three. However, it is usually considered the least intuitive and thus you should be comfortable converting between the three.  In the code block below you can use the interactive slider to change the period of a wave.  "
   ]
  },
  {
   "cell_type": "code",
   "execution_count": 5,
   "metadata": {
    "scrolled": false
   },
   "outputs": [
    {
     "data": {
      "application/vnd.jupyter.widget-view+json": {
       "model_id": "053833cc718346fe807921363c48de1e",
       "version_major": 2,
       "version_minor": 0
      },
      "text/plain": [
       "interactive(children=(FloatSlider(value=5.25, description='T', max=10.0, min=0.5, step=0.25), Output()), _dom_…"
      ]
     },
     "metadata": {},
     "output_type": "display_data"
    }
   ],
   "source": [
    "@interact(T=(0.5,10,.25))\n",
    "def lambdademo(T):\n",
    "    plt.rcParams[\"figure.figsize\"] = (15,5)\n",
    "    t  = np.linspace(0, 8*np.pi, num=1000)\n",
    "    y = np.sin(t*2*np.pi/T)\n",
    "    plt.plot(t,y,'b')\n",
    "    plt.xlabel(\"t\", fontsize=16)\n",
    "    plt.ylabel(\"$\\eta(t)$\", fontsize=16)\n",
    "    plt.legend(['sin(2$\\pi$t/T)'],fontsize=16)\n",
    "    ss = 'f = '+\"{:.2f}\".format(1/T)+' Hz'\n",
    "    ss2 = '$\\omega$ = '+\"{:.2f}\".format(2*np.pi/T)+' rad/s'\n",
    "    plt.text(0,1.3, ss, fontsize=12)\n",
    "    plt.text(0,1.1, ss2, fontsize=12)\n",
    "    plt.ylim((-1.5,1.5))\n",
    "    plt.show()"
   ]
  },
  {
   "cell_type": "markdown",
   "metadata": {},
   "source": [
    "Period ($T$) provides a convenient way to classify ocean waves.  In the diagram below, waves with periods ranging from months to fractions of a second are shown.  Note that period is decreasing (and frequency increasing) moving from left to right.  At the far left are the long-period planetary waves that we will discuss on the last day of class.  These are the kinds of waves that are often visualized in the pressure and temperature distributions of weather maps.  The next kind class of waves are inertial waves.  These waves have a period that is related to the latitude at which they occur and wave motion is maintained by the earth's rotation.   These are discussed later in the semester as well.  The next spike are the diurnal tidal constituents.  These have periods ranging from one solar (24 hours) to one lunar ($\\approx$25 hours) day.   The third, and highest spike is the semi-diurnal ($\\approx$12.41 hour) tide which are caused by relative motion of the moon and earth.  At periods of hours you have the Tsunamis, generated by motion of the seafloor triggered by earthquakes.  Fortunately these are relatively rare so the contribution to the energy is small.  At periods of 10s of seconds down to seconds you have the wind-driven waves (labeled *swell* and *wind-waves* here).  The chart below shows these as two separate peaks.  The distinction between swell and wind-waves has to do with the distance between where the waves are generated and the point where observations are being made.  If you see surfers riding waves on the California coast on calm day, they are riding swell.  Those waves were generated far far away, possibly half an ocean away.  If you are kayaking up an estuary on a windy day and your boat is shipping water, this is caused by wind-waves, or waves that were generated by the wind you are experiencing.  As will be discussed in the next notebook, swell waves tend to be cleaner with a fairly distinct period and direction of travel (like surf).  Wind-waves (*or wind-sea*) tend to have a broader spectrum of periods with greater directional spreading.  The very shortest waves (not labeled) are capillary waves.  These waves have wavelengths of cm and periods of fractions of a second.  When you blow air on a cup of hot coffee you can see capillary waves form on the surface.  Although tiny, these waves are important as they give the surface the roughness needed for the further transfer of energy from the wind field needed to build larger waves. "
   ]
  },
  {
   "cell_type": "markdown",
   "metadata": {},
   "source": [
    "![Waves](figures/wavespectrum.png)"
   ]
  },
  {
   "cell_type": "markdown",
   "metadata": {},
   "source": [
    "### General Waveform\n",
    "\n",
    "We can put the two perspectives together to create a more general expression for a 1-dimensional wave.  \n",
    "\n",
    "$\\eta(x,t) = A\\sin(kx - \\omega t)$\n",
    "\n",
    "This expression is not completely general as it requires the free surface height at (x=0,t=0) to be $\\zeta(x=0,t=0)=0$.  Thus the *phase* of the wave is fixed.  We can add an additional factor to account for the phase. \n",
    "\n",
    "$\\eta(x,t) = A\\sin(kx - \\omega t + \\phi)$\n",
    "\n",
    "The phase does not affect the amplitude, period, or wavelength. It is easiest to think about it as affecting *when* something will happen.  For example, if two embayments had the exact same tidal characteristics except that one area had high tide occurring an hour before the other, the only difference between the waveforms would be the phase.  This will be discussed in more detail in the course unit on tides.  \n",
    "\n",
    "In the code block below a general wave is devised and plotted with controls for advancing time and playing with the phase. You will note that the period ($T$) is set to 5 s, the wavelength is set to 30 m, and the wave height H is 1.3 m. Try setting time to zero and moving the phase to see how it influences the waveform at t=0.  Please note that the phase slider value is in degrees.  However, the argument to the sin function in any programming language must be in radians so you will see in the code below that this is converted to radians by multiplying the angle in degrees by $\\frac{\\pi}{180}$. \n",
    "\n",
    " \n",
    "**QUESTION**: Set the phase to zero and advance the time slider.  How much time (in seconds) does it take for the wave to advance by exactly one wavelength? Is this equal to the period $T$\n",
    "\n",
    "The wavespeed can be deduced from the interactive plot.  The peak travels a distance $\\lambda$ in time $T$ and moves a constant speed.  This speed is thus $c = \\frac{\\lambda}{T}$.  This is known as the wave *celerity*.  Given $\\lambda$ and $T$ you can deduce the celerity.  It can also be written in terms of $\\omega$ and $k$ (and you will more often see it presented in this manner)\n",
    "\n",
    "$c = \\frac{\\lambda}{T} = \\frac{ \\frac{2}{\\pi}{k}}{\\frac{2}{\\pi}{\\omega}} = \\frac{\\omega}{k}$\n",
    "\n"
   ]
  },
  {
   "cell_type": "code",
   "execution_count": 6,
   "metadata": {},
   "outputs": [
    {
     "data": {
      "application/vnd.jupyter.widget-view+json": {
       "model_id": "218dc6e4cf9c44f3bf0743707aa32e0b",
       "version_major": 2,
       "version_minor": 0
      },
      "text/plain": [
       "interactive(children=(FloatSlider(value=20.0, description='t', max=40.0, step=0.5), IntSlider(value=180, descr…"
      ]
     },
     "metadata": {},
     "output_type": "display_data"
    }
   ],
   "source": [
    "@interact(t=(0,40,0.5),phi=(0,360,15))\n",
    "def general(t,phi):\n",
    "    T = 5\n",
    "    wavelength = 30\n",
    "    H = 1.3\n",
    "    x  = np.linspace(0, wavelength*3, num=1000)\n",
    "    z = H*np.sin(x*2*np.pi/wavelength - t*2*np.pi/T + phi*np.pi/180)\n",
    "    zinit = H*np.sin(x*2*np.pi/wavelength)\n",
    "    plt.plot(x,zinit,'r',label='wave at t=0 with $\\phi=0$')\n",
    "    plt.plot(x,z,'b',label='$\\sin(kx-\\omega t + \\phi)$')\n",
    "    plt.xlabel(\"t\", fontsize=16)\n",
    "    plt.ylabel(\"$\\eta(x,t)$\", fontsize=16)\n",
    "    #plt.legend(['wave at t=0','$\\sin(kx-\\omega t + \\phi)$'],fontsize=16)\n",
    "    plt.legend(loc=2,fontsize=14)\n",
    "    plt.ylim((-1.8,1.8))\n",
    "    plt.show()"
   ]
  },
  {
   "cell_type": "markdown",
   "metadata": {},
   "source": [
    "### More complex waveforms\n",
    "\n",
    "There are some caveats that are associated with these mathematical models of waves.  The first is that they assume a wave can be modeled using a single pure harmonic. This is reasonable for waves when the wavelength is small compared to the depth of the water (*deep water* or *short* waves) and the amplitude of the wave is small compared to the wavelength (*small amplitude* or *linear* waves) is but is not reasonable for waves as they enter shallow water.  We will explore those limits in detail in a subsequent notebook.   \n",
    "\n",
    "Consider for example the waves shown in the image below which shows waves which are approaching the beach, feeling the bottom and are starting to steepen into waves which cannot be represented by sinusoids.  They are better characterized by long troughs (lighter sections) separated by relatively steep and narrow peaks (darker sections).  There are other mathematical representations of such waves, one of which is called a *cnoidal* function.  You can read about these waves and see some beautiful images of real waves with cnoidal characteristics on the [cnoidal wiki page](https://en.wikipedia.org/wiki/Cnoidal_wave). "
   ]
  },
  {
   "cell_type": "markdown",
   "metadata": {},
   "source": [
    "![Waves](figures/Periodic_waves_in_shallow_water.jpg)"
   ]
  },
  {
   "cell_type": "markdown",
   "metadata": {},
   "source": [
    "At the beach, waves can steepen and topple over in a plunging breaker.  Clearly, it would be unreasonable to represent such waveforms using our sine function."
   ]
  },
  {
   "cell_type": "markdown",
   "metadata": {},
   "source": [
    "![Waves](figures/Large_breaking_wave.jpg)"
   ]
  },
  {
   "cell_type": "markdown",
   "metadata": {},
   "source": [
    "### Waves are Rarely Solitary\n",
    "\n",
    "The second caveat is that the realistic ocean is full of waves of varying characteristics.  These waves can interact in various ways to produce more complex wavefields.  We will examine in another notebook how the semi-diurnal (twice a day) tide wave generated by the moon-earth relationship interacts with the diurnal tide wave generated by the sun-earth relationship to produce the well known spring-neap cycle of tide heights.  In this case, two waves of different periods (approximately 12.42 hours and 24 hours) combine to produce a response that varies over a much larger period (two weeks).  \n",
    "\n",
    "With regard to wind-generated waves, the ocean surface can be incredibly complex with waves of a wide *spectrum* of characteristics, including direction of travel passing through space.  Such wavefields are most often treated using a statistical approach which is a way of characterizing a complex wave state in a useful manner with only a handful of key variables.  The most prevalent wave statistic is the *significant wave height* ($H_{s}$).  While the strict definition of $H_{s}$ is quite complex, it can be approximated by the basic rule of thumb that $H_{s}$ is the average wave height of the highest third of all the waves.  It is not the absolute largest wave at any time.  Rather it is a measure of the characteristic *size* of the waves at a given time, one which is of use to both mariners and oceanographers.  Since energy scales as the square of wave height ($H^2$), $H_{s}$ represents the size of waves comprising the bulk of energy. \n",
    "\n"
   ]
  },
  {
   "cell_type": "markdown",
   "metadata": {},
   "source": [
    "![Waves](figures/Wave_buoy_Cook_Inlet_2011_low_res-1024x627.jpg) "
   ]
  },
  {
   "cell_type": "markdown",
   "metadata": {},
   "source": [
    "### Measuring Wind Waves (Optional)\n",
    "\n",
    "The purpose of the wave buoy shown above in Cook Inlet, AK is to make measurements of the wave field and relay them to a shore station.  Since this is a point measurement with fixed location, the vertical position of the device (assumed to mark the position of the free surface) might be considered to follow a sinusoid of the variety\n",
    "\n",
    "$\\eta(t) = A \\sin (\\omega t)$\n",
    "\n",
    "Given an observed time series $\\eta(t)$ one might be able to determine several characteristics. Based on the time between peaks, $T$ could be deduced and based on the vertical excursions, one might determine $A$. The difficulty lies in measuring $\\eta(t)$.  This must be made relative to some fixed location, for example the seafloor. For a buoy, this turns out to be quite challenging in a noise, turbid environment and thus most buoys rely on a separate, indirect measure: the *acceleration* of the wave buoy.  From this acceleration $a(t)$, the vertical position $\\eta(t)$ can be deduced (approximately).  To understand this, we work in the opposite direction.\n",
    "\n",
    "The velocity is the instantaneous time rate of change of the position of an object.  In general, the position of an object is described with a vector and thus the velocity is also a vector.  However, for this simple example, let's assume the buoy only moves in one dimension, in the vertical.   The vertical velocity $v(t)$ is the time rate of change of the position $\\zeta(t)$. \n",
    "\n",
    "$v(t) = \\frac{d}{dt}\\eta(t) = A \\omega \\cos (\\omega t)$\n",
    "\n",
    "Here we used the chain rule to take the derivative of our $\\sin$ function.\n",
    "\n",
    "$\\frac{d}{dt} \\sin (u(t)) = \\frac{du}{dt} \\cos (u(t))$\n",
    "\n",
    "with $u(t) = \\omega t$ and $\\frac{du}{dt} = \\omega$.  The acceleration is the instantaneous rate of change of the velocity, or derivative of velocity with respect to time.  This would make the acceleration the second derivative of the position with respect to time. \n",
    "\n",
    "$a(t) = \\frac{d^2}{dt^2}\\eta(t) = \\frac{d}{dt}v(t) = -\\omega^2 A \\sin (\\omega t)$\n",
    "\n",
    "Let's look at these functions alltogether\n",
    "\n",
    "\\begin{eqnarray}\n",
    "\\eta(t) & = & A \\sin(\\omega t)\\\\\n",
    "v(t) & = & A \\omega \\cos (\\omega t)\\\\\n",
    "a(t) & = & -\\omega^2 A \\sin (\\omega t)\n",
    "\\end{eqnarray}\n",
    "\n",
    "We can see that the velocity ($v(t)$) and the position ($\\eta(t)$) are 90 degrees out of phase and that the amplitude of the velocity includes an additional factor of $\\omega$ compared with position.  Note, this will also satisfy our units as the amplitude of velocity, $A \\omega$ has units of m/s.  The acceleration ($a(t)$) is 180 degrees out of phase from the position (note the minus sign) and the amplitude includes two factors of $\\omega$ relative to the amplitude of the position.  This also satisfies our dimensions as the amplitude of acceleration is $A \\omega^2$ which has units of $m/s^2$.  Importantly, the argument of the harmonic function *does not change* when we take the derivative.  Thus, position/velocity/acceleration all oscillate with identical period. \n",
    "\n",
    "Let's assume that the angular frequency of the wave $\\omega=1$ for the moment and examine only the phase differences. The resulting functions are plotted in the figure below.   Trace the line of the buoy position as a function of time.  The maximum magnitude of the velocity is reached when the buoy crosses the mean free surface ($\\eta=0$) and the magnitude of the vertical velocity is zero when the buoy is at peak or trough of a wave.  The magnitude of the acceleration is maximum when the buoy is at the peak or trough and is minimum when the buoy is at $\\eta=0$.  \n",
    "\n",
    "An accelerometer on the buoy can attempt to measure $a(t)$, the black curve and from there the position time series $\\eta(t)$ can be deduced.  In reality, what is needed from the buoy is some measure of a typical period $T$ associated with the larger waves and the significant wave height $H_{sig}$ discussed above.  There are statistical methods to derive this directly from the measured acceleration.  \n",
    "\n"
   ]
  },
  {
   "cell_type": "code",
   "execution_count": 7,
   "metadata": {
    "scrolled": true
   },
   "outputs": [
    {
     "data": {
      "image/png": "[encoded data removed]",
      "text/plain": [
       "<Figure size 1080x360 with 1 Axes>"
      ]
     },
     "metadata": {
      "needs_background": "light"
     },
     "output_type": "display_data"
    }
   ],
   "source": [
    "# plot position, velocity, and acceleration\n",
    "omega = 1\n",
    "A = 1\n",
    "T = 5\n",
    "\n",
    "t  = np.linspace(0, 10, num=1000)\n",
    "z = A*np.sin(omega*t)\n",
    "v = A*omega*np.cos(omega*t)\n",
    "a = -A*omega*omega*np.sin(omega*t)\n",
    "plt.plot(t,z,'r',label='$\\eta(t)$')\n",
    "plt.plot(t,v,'b',label='$v(t)$')\n",
    "plt.plot(t,a,'k',label='$a(t)$')\n",
    "plt.xlabel(\"t\", fontsize=16)\n",
    "plt.legend(loc=2,fontsize=14)\n",
    "plt.show()"
   ]
  },
  {
   "cell_type": "markdown",
   "metadata": {},
   "source": [
    "Buoys can only provide point measurements.   Satellites can also be used to measure the wave state.  A [recent paper in Nature](https://science.sciencemag.org/content/364/6440/548)  that received a huge amount of press focused on a multi-decade analysis of satellite-derived wave data that was benchmarked using observations.   It essentially concluded waves were getting larger.  It is a good, relatively easy, read that gives some background on wave-sensing using satellites.  "
   ]
  }
 ],
 "metadata": {
  "kernelspec": {
   "display_name": "Python 3",
   "language": "python",
   "name": "python3"
  },
  "language_info": {
   "codemirror_mode": {
    "name": "ipython",
    "version": 3
   },
   "file_extension": ".py",
   "mimetype": "text/x-python",
   "name": "python",
   "nbconvert_exporter": "python",
   "pygments_lexer": "ipython3",
   "version": "3.7.3"
  }
 },
 "nbformat": 4,
 "nbformat_minor": 4
}
